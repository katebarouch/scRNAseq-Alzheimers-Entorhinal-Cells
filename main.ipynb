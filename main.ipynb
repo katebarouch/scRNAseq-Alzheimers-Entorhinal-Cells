{
 "cells": [
  {
   "cell_type": "markdown",
   "metadata": {},
   "source": [
    "Computation Analysis of scRNA-seq transcriptome data for Alzheimer's vs non-Alzheimer's Patient Microglia\n",
    "\n",
    "Steps: \n",
    "1. Load data\n",
    "2. Filtering\n",
    "3. Normalization\n",
    "4. Transformation\n",
    "5. Clustering & Dimensoinality Reduction\n",
    "6. Gene Expression Analysis"
   ]
  },
  {
   "cell_type": "code",
   "execution_count": null,
   "metadata": {
    "vscode": {
     "languageId": "plaintext"
    }
   },
   "outputs": [],
   "source": []
  }
 ],
 "metadata": {
  "language_info": {
   "name": "python"
  }
 },
 "nbformat": 4,
 "nbformat_minor": 2
}
